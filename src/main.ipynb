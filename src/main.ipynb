{
 "cells": [
  {
   "cell_type": "code",
   "execution_count": null,
   "metadata": {},
   "outputs": [],
   "source": [
    "import matplotlib.pyplot as plt\n",
    "import numpy as np\n",
    "from mlp import MLP, Layer, InputLayer, OutputLayer, MultinoulliML, Adam"
   ]
  },
  {
   "cell_type": "code",
   "execution_count": null,
   "metadata": {},
   "outputs": [],
   "source": [
    "import os\n",
    "\n",
    "class Iterator:\n",
    "    def __iter__(self):\n",
    "        return self\n",
    "\n",
    "class chain(Iterator):\n",
    "    def __init__(self, *its):\n",
    "        self.its = iter([iter(it) for it in its])\n",
    "        self.it = None\n",
    "\n",
    "    def __next__(self):\n",
    "        if self.it is None:\n",
    "            self.it = next(self.its)\n",
    "            return self.__next__()\n",
    "        else:\n",
    "            try:\n",
    "                return next(self.it)\n",
    "            except StopIteration:\n",
    "                self.it = None\n",
    "                return self.__next__()\n",
    "            \n",
    "class chunk(Iterator):\n",
    "    def __init__(self, it, n):\n",
    "        self.it = it\n",
    "        self.n = n\n",
    "\n",
    "    def __next__(self):\n",
    "        if self.n > 0:\n",
    "            self.n -= 1\n",
    "            return next(self.it)\n",
    "        else: raise StopIteration\n",
    "        \n",
    "class chunked_it(Iterator):\n",
    "    def __init__(self, it, chunksize):\n",
    "        self.it = it\n",
    "        self.chunksize = chunksize\n",
    "        self.chunk = None\n",
    "\n",
    "    def __next__(self):\n",
    "        if self.chunk is None:\n",
    "            _next = next(self.it)\n",
    "            self.chunk = chunk(chain([_next], self.it), self.chunksize)\n",
    "            return self.chunk\n",
    "        else:\n",
    "            list(self.chunk)\n",
    "            self.chunk = None\n",
    "            return self.__next__()\n",
    "        \n",
    "def file_it(path, skiplines=0):\n",
    "    with open(path) as f:\n",
    "        for _ in range(skiplines):\n",
    "            f.readline()\n",
    "        yield from f\n",
    "\n",
    "def file_it_inf(path, skiplines=0):\n",
    "    with open(path) as f:\n",
    "        while 1:\n",
    "            for _ in range(skiplines):\n",
    "                f.readline()\n",
    "            yield from f\n",
    "            f.seek(0, os.SEEK_SET)\n",
    "\n",
    "def gen_batch(c):\n",
    "    arr = np.loadtxt(c, dtype=int, delimiter=',')\n",
    "    return arr[:, 1:]/255, arr[:, 0]"
   ]
  },
  {
   "cell_type": "code",
   "execution_count": null,
   "metadata": {},
   "outputs": [],
   "source": [
    "it = map(gen_batch, chunked_it(file_it(\"../data/train.csv\", skiplines=1), chunksize=10))\n",
    "valset = next(it)"
   ]
  },
  {
   "cell_type": "code",
   "execution_count": null,
   "metadata": {},
   "outputs": [],
   "source": [
    "network = MLP(\n",
    "    [\n",
    "        InputLayer(28*28),\n",
    "        Layer(16),\n",
    "        Layer(16),\n",
    "        OutputLayer(10)\n",
    "    ],\n",
    "    model=MultinoulliML(),\n",
    "    optimizer=Adam(eps=0.5)\n",
    ")\n",
    "\n",
    "network.init_training(batchsize=10, validation_set=valset)"
   ]
  },
  {
   "cell_type": "code",
   "execution_count": null,
   "metadata": {},
   "outputs": [],
   "source": [
    "for batch in it:\n",
    "    network.train_minibatch(batch)"
   ]
  },
  {
   "cell_type": "code",
   "execution_count": null,
   "metadata": {},
   "outputs": [],
   "source": [
    "it = map(\n",
    "        lambda line: np.fromstring(line, sep=\",\", dtype=np.uint8),\n",
    "        file_it(\"../data/test.csv\", skiplines=1),\n",
    ")\n"
   ]
  },
  {
   "cell_type": "code",
   "execution_count": null,
   "metadata": {},
   "outputs": [],
   "source": [
    "data = next(it)\n",
    "n = network.feedforward(data/255)\n",
    "print(n)\n",
    "plt.imshow(data.reshape((28,28)), cmap=\"gray\", vmin = 0, vmax = 255)"
   ]
  },
  {
   "cell_type": "code",
   "execution_count": null,
   "metadata": {},
   "outputs": [],
   "source": [
    "import numpy as np\n",
    "from numpy.lib.stride_tricks import sliding_window_view"
   ]
  },
  {
   "cell_type": "code",
   "execution_count": null,
   "metadata": {},
   "outputs": [],
   "source": [
    "x = np.eye(10,10)\n",
    "window = sliding_window_view(x, (2,2))"
   ]
  },
  {
   "cell_type": "code",
   "execution_count": null,
   "metadata": {},
   "outputs": [],
   "source": [
    "window.shape"
   ]
  },
  {
   "cell_type": "code",
   "execution_count": null,
   "metadata": {},
   "outputs": [],
   "source": [
    "np.array(1.)*2"
   ]
  },
  {
   "cell_type": "code",
   "execution_count": null,
   "metadata": {},
   "outputs": [],
   "source": []
  }
 ],
 "metadata": {
  "kernelspec": {
   "display_name": ".venv",
   "language": "python",
   "name": "python3"
  },
  "language_info": {
   "codemirror_mode": {
    "name": "ipython",
    "version": 3
   },
   "file_extension": ".py",
   "mimetype": "text/x-python",
   "name": "python",
   "nbconvert_exporter": "python",
   "pygments_lexer": "ipython3",
   "version": "3.12.5"
  }
 },
 "nbformat": 4,
 "nbformat_minor": 2
}
