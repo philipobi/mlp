{
 "cells": [
  {
   "cell_type": "code",
   "execution_count": null,
   "metadata": {},
   "outputs": [],
   "source": [
    "import matplotlib.pyplot as plt\n",
    "from matplotlib.animation import FuncAnimation\n",
    "import numpy as np\n",
    "from mlp import MLP, Layer, InputLayer, OutputLayer, MultinoulliML\n",
    "from utils import Adam"
   ]
  },
  {
   "cell_type": "code",
   "execution_count": null,
   "metadata": {},
   "outputs": [],
   "source": [
    "def epoch_it(X, epochs, batchsize):\n",
    "    n, _ = X.shape\n",
    "    N = int(n/batchsize)\n",
    "    for _ in range(epochs):\n",
    "        for i in range(N):\n",
    "            yield X[i*batchsize : (i+1)*batchsize]\n",
    "\n",
    "def file_it(path, skiplines=0):\n",
    "    with open(path) as f:\n",
    "        for _ in range(skiplines):\n",
    "            f.readline()\n",
    "        yield from f"
   ]
  },
  {
   "cell_type": "code",
   "execution_count": null,
   "metadata": {},
   "outputs": [],
   "source": [
    "network = MLP(\n",
    "    [\n",
    "        InputLayer(28*28),\n",
    "        Layer(100),\n",
    "        Layer(16),\n",
    "        Layer(16),\n",
    "        Layer(16),\n",
    "        OutputLayer(10)\n",
    "    ],\n",
    "    model=MultinoulliML(),\n",
    "    optimizer=Adam(eps=0.005, clip_threshold=None)\n",
    ")"
   ]
  },
  {
   "cell_type": "code",
   "execution_count": null,
   "metadata": {},
   "outputs": [],
   "source": [
    "batchsize = 20\n",
    "epochs = 40\n",
    "\n",
    "data = np.loadtxt(\"../data/train.csv\", skiprows=1, delimiter=\",\", dtype=int)\n",
    "valset = data[:100]\n",
    "valset = (valset[:, 1:] / 255, valset[:, 0])\n",
    "trainset = data[100:]\n",
    "it = epoch_it(trainset, epochs, batchsize=batchsize)\n",
    "\n",
    "network.init_training(batchsize=batchsize, validation_set=valset)"
   ]
  },
  {
   "cell_type": "code",
   "execution_count": null,
   "metadata": {},
   "outputs": [],
   "source": [
    "for batch in it:\n",
    "    X, Y = (batch[:,1:]/255, batch[:,0])\n",
    "    cost, accuracy = network.train_minibatch((X, Y))\n",
    "    print(accuracy, cost)"
   ]
  },
  {
   "cell_type": "code",
   "execution_count": null,
   "metadata": {},
   "outputs": [],
   "source": [
    "network.cleanup_training()"
   ]
  },
  {
   "cell_type": "code",
   "execution_count": null,
   "metadata": {},
   "outputs": [],
   "source": [
    "it = map(\n",
    "    lambda line: np.fromstring(line, sep=\",\", dtype=np.uint8),\n",
    "    file_it(\"../data/test.csv\", skiplines=1),\n",
    ")"
   ]
  },
  {
   "cell_type": "code",
   "execution_count": null,
   "metadata": {},
   "outputs": [],
   "source": [
    "data = next(it)\n",
    "n = network.feedforward(data/255)\n",
    "print(n)\n",
    "plt.imshow(data.reshape((28,28)), cmap=\"gray\", vmin = 0, vmax = 255)"
   ]
  },
  {
   "cell_type": "code",
   "execution_count": null,
   "metadata": {},
   "outputs": [],
   "source": [
    "network.output_layer.A"
   ]
  },
  {
   "cell_type": "code",
   "execution_count": null,
   "metadata": {},
   "outputs": [],
   "source": [
    "class ParentA:\n",
    "    def func(self, a):\n",
    "        print(\"parent a\", a)\n",
    "\n",
    "class ParentB:\n",
    "    def func(self, a):\n",
    "        print(\"parent b\", a)\n",
    "\n",
    "class Derived(ParentA, ParentB):\n",
    "    def func(self, a):\n",
    "        super().func(a=a)\n",
    "        print(\"derived\", a)"
   ]
  },
  {
   "cell_type": "code",
   "execution_count": null,
   "metadata": {},
   "outputs": [],
   "source": [
    "Derived().func(\"hello\")"
   ]
  },
  {
   "cell_type": "code",
   "execution_count": null,
   "metadata": {},
   "outputs": [],
   "source": [
    "import numpy as np\n",
    "x = None\n",
    "np.multiply(3, np.eye(3,3), out = x)"
   ]
  },
  {
   "cell_type": "code",
   "execution_count": null,
   "metadata": {},
   "outputs": [],
   "source": [
    "x = 0 + np.inf"
   ]
  },
  {
   "cell_type": "code",
   "execution_count": null,
   "metadata": {},
   "outputs": [],
   "source": [
    "x = 9\n",
    "np.sqrt(x, out=x)"
   ]
  },
  {
   "cell_type": "code",
   "execution_count": null,
   "metadata": {},
   "outputs": [],
   "source": [
    "(_, _, _, b) = (1,2,3,4)"
   ]
  },
  {
   "cell_type": "code",
   "execution_count": null,
   "metadata": {},
   "outputs": [],
   "source": [
    "np.argmax(np.eye(3,3), axis=-1)"
   ]
  },
  {
   "cell_type": "code",
   "execution_count": null,
   "metadata": {},
   "outputs": [],
   "source": [
    "x = np.array([1,2,3])\n",
    "y = np.array([3,2,1])\n",
    "\n",
    "np.average(x==y)"
   ]
  },
  {
   "cell_type": "code",
   "execution_count": null,
   "metadata": {},
   "outputs": [],
   "source": [
    "import numpy as np \n",
    "x=np.eye(3,3)"
   ]
  },
  {
   "cell_type": "code",
   "execution_count": null,
   "metadata": {},
   "outputs": [],
   "source": [
    "pos = (0,0)\n",
    "x[*pos]"
   ]
  },
  {
   "cell_type": "code",
   "execution_count": null,
   "metadata": {},
   "outputs": [],
   "source": [
    "int(2.6)"
   ]
  },
  {
   "cell_type": "code",
   "execution_count": null,
   "metadata": {},
   "outputs": [],
   "source": [
    "x = True\n",
    "if x:\n",
    "    print(\"foo\")\n",
    "elif x:\n",
    "    print(\"bar\")"
   ]
  },
  {
   "cell_type": "code",
   "execution_count": null,
   "metadata": {},
   "outputs": [],
   "source": [
    "str(1.0)"
   ]
  },
  {
   "cell_type": "code",
   "execution_count": null,
   "metadata": {},
   "outputs": [],
   "source": [
    "import numpy as np\n",
    "np.identity(3).reshape(-1).base"
   ]
  },
  {
   "cell_type": "code",
   "execution_count": null,
   "metadata": {},
   "outputs": [],
   "source": [
    "import matplotlib.pyplot as plt\n",
    "import numpy as np \n",
    "from matplotlib.colors import LinearSegmentedColormap"
   ]
  },
  {
   "cell_type": "code",
   "execution_count": null,
   "metadata": {},
   "outputs": [],
   "source": [
    "def plot_examples(colormaps):\n",
    "    \"\"\"\n",
    "    Helper function to plot data with associated colormap.\n",
    "    \"\"\"\n",
    "    np.random.seed(19680801)\n",
    "    data = np.random.randn(30, 30)\n",
    "    n = len(colormaps)\n",
    "    fig, axs = plt.subplots(1, n, figsize=(n * 2 + 2, 3),\n",
    "                            layout='constrained', squeeze=False)\n",
    "    for [ax, cmap] in zip(axs.flat, colormaps):\n",
    "        psm = ax.pcolormesh(data, cmap=cmap, rasterized=True, vmin=-4, vmax=4)\n",
    "        fig.colorbar(psm, ax=ax)\n",
    "    plt.show()"
   ]
  },
  {
   "cell_type": "code",
   "execution_count": null,
   "metadata": {},
   "outputs": [],
   "source": [
    "colors = [\"#e6550d\",\"#fdd0a2\",\"#000000\",\"#c7e9c0\",\"#31a354\"]\n",
    "nodes = [0.0, 0.49, 0.5, 0.51, 1.0]\n",
    "cmap = LinearSegmentedColormap.from_list(\"mycmap\", list(zip(nodes, colors)))\n",
    "plot_examples([cmap])"
   ]
  },
  {
   "cell_type": "code",
   "execution_count": null,
   "metadata": {},
   "outputs": [],
   "source": [
    "cmap([0.1,0.2])"
   ]
  },
  {
   "cell_type": "code",
   "execution_count": null,
   "metadata": {},
   "outputs": [],
   "source": [
    "x = np.identity(4)\n",
    "np.concatenate((x[:1],x[-1:]))"
   ]
  },
  {
   "cell_type": "code",
   "execution_count": null,
   "metadata": {},
   "outputs": [],
   "source": []
  }
 ],
 "metadata": {
  "kernelspec": {
   "display_name": ".venv",
   "language": "python",
   "name": "python3"
  },
  "language_info": {
   "codemirror_mode": {
    "name": "ipython",
    "version": 3
   },
   "file_extension": ".py",
   "mimetype": "text/x-python",
   "name": "python",
   "nbconvert_exporter": "python",
   "pygments_lexer": "ipython3",
   "version": "3.13.0rc1"
  }
 },
 "nbformat": 4,
 "nbformat_minor": 2
}
