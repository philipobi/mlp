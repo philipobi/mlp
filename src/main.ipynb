{
 "cells": [
  {
   "cell_type": "code",
   "execution_count": null,
   "metadata": {},
   "outputs": [],
   "source": [
    "from main import ModelSpec\n",
    "import numpy as np\n",
    "import matplotlib.pyplot as plt"
   ]
  },
  {
   "cell_type": "code",
   "execution_count": null,
   "metadata": {},
   "outputs": [],
   "source": [
    "def epoch_it(X, epochs, batchsize):\n",
    "    n, _ = X.shape\n",
    "    N = int(n/batchsize)\n",
    "    for _ in range(epochs):\n",
    "        for i in range(N):\n",
    "            yield X[i*batchsize : (i+1)*batchsize]\n",
    "\n",
    "def file_it(path, skiplines=0):\n",
    "    with open(path) as f:\n",
    "        for _ in range(skiplines):\n",
    "            f.readline()\n",
    "        yield from f"
   ]
  },
  {
   "cell_type": "code",
   "execution_count": null,
   "metadata": {},
   "outputs": [],
   "source": [
    "network = ModelSpec()\n",
    "network.load_params(\"../params\")"
   ]
  },
  {
   "cell_type": "code",
   "execution_count": null,
   "metadata": {},
   "outputs": [],
   "source": [
    "it = map(\n",
    "    lambda line: np.fromstring(line, sep=\",\", dtype=np.uint8),\n",
    "    file_it(\"../data/test.csv\", skiplines=1),\n",
    ")"
   ]
  },
  {
   "cell_type": "code",
   "execution_count": null,
   "metadata": {},
   "outputs": [],
   "source": [
    "data = next(it)\n",
    "n = network.feedforward(data/255)\n",
    "print(n)\n",
    "fig,ax=plt.subplots()\n",
    "ax.imshow(data.reshape((28,28)), cmap=\"gray\", vmin = 0, vmax = 255)\n",
    "ax.tick_params(axis='both', which='major', labelsize=14, length=10, width=2)\n",
    "plt.show()"
   ]
  },
  {
   "cell_type": "code",
   "execution_count": null,
   "metadata": {},
   "outputs": [],
   "source": []
  }
 ],
 "metadata": {
  "kernelspec": {
   "display_name": ".venv",
   "language": "python",
   "name": "python3"
  },
  "language_info": {
   "codemirror_mode": {
    "name": "ipython",
    "version": 3
   },
   "file_extension": ".py",
   "mimetype": "text/x-python",
   "name": "python",
   "nbconvert_exporter": "python",
   "pygments_lexer": "ipython3",
   "version": "3.13.0rc1"
  }
 },
 "nbformat": 4,
 "nbformat_minor": 2
}
