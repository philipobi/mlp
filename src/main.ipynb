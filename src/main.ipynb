{
 "cells": [
  {
   "cell_type": "code",
   "execution_count": null,
   "metadata": {},
   "outputs": [],
   "source": [
    "import matplotlib.pyplot as plt\n",
    "from matplotlib.animation import FuncAnimation\n",
    "import numpy as np\n",
    "from mlp import MLP, Layer, InputLayer, OutputLayer, MultinoulliML\n",
    "from utils import Adam"
   ]
  },
  {
   "cell_type": "code",
   "execution_count": null,
   "metadata": {},
   "outputs": [],
   "source": [
    "def epoch_it(X, epochs, batchsize):\n",
    "    n, _ = X.shape\n",
    "    N = int(n/batchsize)\n",
    "    for _ in range(epochs):\n",
    "        for i in range(N):\n",
    "            yield X[i*batchsize : (i+1)*batchsize]\n",
    "\n",
    "def file_it(path, skiplines=0):\n",
    "    with open(path) as f:\n",
    "        for _ in range(skiplines):\n",
    "            f.readline()\n",
    "        yield from f"
   ]
  },
  {
   "cell_type": "code",
   "execution_count": null,
   "metadata": {},
   "outputs": [],
   "source": [
    "class DropoutConfig:\n",
    "    enabled = True\n",
    "    p_hidden = 0.7\n",
    "    p_input = 0.8\n",
    "\n",
    "network = MLP(\n",
    "    [\n",
    "        InputLayer(28*28),\n",
    "        Layer(100),\n",
    "        Layer(100),\n",
    "        Layer(100),\n",
    "        Layer(100),\n",
    "        OutputLayer(10)\n",
    "    ],\n",
    "    model=MultinoulliML(),\n",
    "    optimizer=Adam(eps=0.1, clip_threshold=None),\n",
    "    dropout=DropoutConfig\n",
    ")"
   ]
  },
  {
   "cell_type": "code",
   "execution_count": null,
   "metadata": {},
   "outputs": [],
   "source": [
    "batchsize = 20\n",
    "epochs = 40\n",
    "\n",
    "data = np.loadtxt(\"../data/train.csv\", skiprows=1, delimiter=\",\", dtype=int)\n",
    "valset = data[:100]\n",
    "valset = (valset[:, 1:] / 255, valset[:, 0])\n",
    "trainset = data[100:]\n",
    "it = epoch_it(trainset, epochs, batchsize=batchsize)\n",
    "\n",
    "network.init_training(batchsize=batchsize, validation_set=valset)"
   ]
  },
  {
   "cell_type": "code",
   "execution_count": null,
   "metadata": {},
   "outputs": [],
   "source": [
    "for batch in it:\n",
    "    X, Y = (batch[:,1:]/255, batch[:,0])\n",
    "    cost, accuracy = network.train_minibatch((X, Y))\n",
    "    print(accuracy, cost)\n",
    "network.cleanup_training()"
   ]
  },
  {
   "cell_type": "code",
   "execution_count": null,
   "metadata": {},
   "outputs": [],
   "source": [
    "it = map(\n",
    "    lambda line: np.fromstring(line, sep=\",\", dtype=np.uint8),\n",
    "    file_it(\"../data/test.csv\", skiplines=1),\n",
    ")"
   ]
  },
  {
   "cell_type": "code",
   "execution_count": null,
   "metadata": {},
   "outputs": [],
   "source": [
    "data = next(it)\n",
    "n = network.feedforward(data/255)\n",
    "print(n)\n",
    "plt.imshow(data.reshape((28,28)), cmap=\"gray\", vmin = 0, vmax = 255)"
   ]
  },
  {
   "cell_type": "code",
   "execution_count": null,
   "metadata": {},
   "outputs": [],
   "source": [
    "from main import Program"
   ]
  },
  {
   "cell_type": "code",
   "execution_count": null,
   "metadata": {},
   "outputs": [],
   "source": [
    "%matplotlib qt\n",
    "Program(data_path=\"../data/train.csv\")"
   ]
  },
  {
   "cell_type": "code",
   "execution_count": null,
   "metadata": {},
   "outputs": [],
   "source": []
  }
 ],
 "metadata": {
  "kernelspec": {
   "display_name": ".venv",
   "language": "python",
   "name": "python3"
  },
  "language_info": {
   "codemirror_mode": {
    "name": "ipython",
    "version": 3
   },
   "file_extension": ".py",
   "mimetype": "text/x-python",
   "name": "python",
   "nbconvert_exporter": "python",
   "pygments_lexer": "ipython3",
   "version": "3.13.0rc1"
  }
 },
 "nbformat": 4,
 "nbformat_minor": 2
}
