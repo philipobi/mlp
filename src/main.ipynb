{
 "cells": [
  {
   "cell_type": "code",
   "execution_count": null,
   "metadata": {},
   "outputs": [],
   "source": [
    "from main import ModelSpecLarge, init_training_data\n",
    "import numpy as np\n",
    "import matplotlib.pyplot as plt"
   ]
  },
  {
   "cell_type": "code",
   "execution_count": null,
   "metadata": {},
   "outputs": [],
   "source": [
    "batchsize = 20\n",
    "\n",
    "network = ModelSpecLarge()\n",
    "_, it, valset = init_training_data(\"../data/train.csv\", batchsize=batchsize, valsetsize=100, epochs=50)\n",
    "network.init_training(batchsize=batchsize, validation_set=valset)"
   ]
  },
  {
   "cell_type": "code",
   "execution_count": null,
   "metadata": {},
   "outputs": [],
   "source": [
    "for batch in it:\n",
    "    (training_loss, training_accuracy, validation_loss, validation_accuracy) = network.train_minibatch(batch)\n",
    "    print(f\"{validation_loss:6.3f}, {validation_accuracy:4.2f}\\r\", end=\"\")\n"
   ]
  },
  {
   "cell_type": "code",
   "execution_count": null,
   "metadata": {},
   "outputs": [],
   "source": [
    "network.cleanup_training()"
   ]
  },
  {
   "cell_type": "code",
   "execution_count": null,
   "metadata": {},
   "outputs": [],
   "source": [
    "network.save_params()"
   ]
  },
  {
   "cell_type": "markdown",
   "metadata": {},
   "source": [
    "Testing"
   ]
  },
  {
   "cell_type": "code",
   "execution_count": null,
   "metadata": {},
   "outputs": [],
   "source": [
    "def file_it(path, skiplines=0):\n",
    "    with open(path) as f:\n",
    "        for _ in range(skiplines):\n",
    "            f.readline()\n",
    "        yield from f\n",
    "\n",
    "it = map(\n",
    "    lambda line: np.fromstring(line, sep=\",\", dtype=np.uint8),\n",
    "    file_it(\"../data/test.csv\", skiplines=1),\n",
    ")"
   ]
  },
  {
   "cell_type": "code",
   "execution_count": null,
   "metadata": {},
   "outputs": [],
   "source": [
    "data = next(it)\n",
    "n = network.feedforward(data/255)\n",
    "print(n)\n",
    "fig,ax=plt.subplots()\n",
    "ax.imshow(data.reshape((28,28)), cmap=\"gray\", vmin = 0, vmax = 255)\n",
    "ax.tick_params(axis='both', which='major', labelsize=14, length=10, width=2)\n",
    "plt.show()"
   ]
  },
  {
   "cell_type": "code",
   "execution_count": null,
   "metadata": {},
   "outputs": [],
   "source": []
  }
 ],
 "metadata": {
  "kernelspec": {
   "display_name": ".venv",
   "language": "python",
   "name": "python3"
  },
  "language_info": {
   "codemirror_mode": {
    "name": "ipython",
    "version": 3
   },
   "file_extension": ".py",
   "mimetype": "text/x-python",
   "name": "python",
   "nbconvert_exporter": "python",
   "pygments_lexer": "ipython3",
   "version": "3.13.0rc1"
  }
 },
 "nbformat": 4,
 "nbformat_minor": 2
}
