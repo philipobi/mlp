{
 "cells": [
  {
   "cell_type": "code",
   "execution_count": 3,
   "metadata": {},
   "outputs": [
    {
     "name": "stdout",
     "output_type": "stream",
     "text": [
      "base init\n"
     ]
    },
    {
     "data": {
      "text/plain": [
       "<__main__.derived at 0x1047492b0>"
      ]
     },
     "execution_count": 3,
     "metadata": {},
     "output_type": "execute_result"
    }
   ],
   "source": [
    "class base:\n",
    "    def __init__(self):\n",
    "        print(\"base init\")\n",
    "\n",
    "class derived(base):\n",
    "    pass\n",
    "\n",
    "derived()"
   ]
  },
  {
   "cell_type": "code",
   "execution_count": null,
   "metadata": {},
   "outputs": [],
   "source": [
    "import numpy as numpy\n",
    "\n",
    "class np_op:\n",
    "    def __init__(self, *args, **kwargs):\n",
    "        out = kwargs.pop(\"out\")\n",
    "        def func():\n",
    "            self.op(*args, **kwargs, out=out.mem)\n",
    "        def func_():\n",
    "            out.mem = self.op(*args, **kwargs)\n",
    "            self.func = func\n",
    "        self.func = func_\n",
    "\n",
    "    def __call__(self):\n",
    "        self.func()\n",
    "\n",
    "class mem:\n",
    "    def __init__(self):\n",
    "        self.mem = None\n",
    "\n",
    "class np:\n",
    "    class multiply(np_op):\n",
    "        op = numpy.multiply\n",
    "\n"
   ]
  },
  {
   "cell_type": "code",
   "execution_count": null,
   "metadata": {},
   "outputs": [
    {
     "name": "stdout",
     "output_type": "stream",
     "text": [
      "1\n",
      "2\n"
     ]
    },
    {
     "data": {
      "text/plain": [
       "(None, None)"
      ]
     },
     "execution_count": 17,
     "metadata": {},
     "output_type": "execute_result"
    }
   ],
   "source": [
    "from main import ModelSpecLarge, ModelSpecSmall, init_training_data\n",
    "import numpy as np\n",
    "import matplotlib.pyplot as plt\n",
    "from matplotlib.patches import Circle, Rectangle\n",
    "\n",
    "class Test:\n",
    "    def __init__(self,val):\n",
    "        self.val = val\n",
    "\n",
    "\n",
    "def func(self):\n",
    "    print(self.val)\n",
    "\n",
    "Test.func = func\n",
    "\n",
    "(Test(1).func(), Test(2).func()"
   ]
  },
  {
   "cell_type": "code",
   "execution_count": 12,
   "metadata": {},
   "outputs": [
    {
     "data": {
      "text/plain": [
       "np.float64(1.0)"
      ]
     },
     "execution_count": 12,
     "metadata": {},
     "output_type": "execute_result"
    }
   ],
   "source": [
    "np.eye(3,3)[1,1]"
   ]
  },
  {
   "cell_type": "markdown",
   "metadata": {},
   "source": [
    "## Testing"
   ]
  },
  {
   "cell_type": "code",
   "execution_count": null,
   "metadata": {},
   "outputs": [],
   "source": [
    "network = ModelSpecSmall()\n",
    "network.load_params(\"../params/small_50epochs_93percent\")"
   ]
  },
  {
   "cell_type": "code",
   "execution_count": null,
   "metadata": {},
   "outputs": [],
   "source": [
    "def file_it(path, skiplines=0):\n",
    "    with open(path) as f:\n",
    "        for _ in range(skiplines):\n",
    "            f.readline()\n",
    "        yield from f\n",
    "\n",
    "it = map(\n",
    "    lambda line: np.fromstring(line, sep=\",\", dtype=np.uint8),\n",
    "    file_it(\"../data/test.csv\", skiplines=1),\n",
    ")\n",
    "\n",
    "np.set_printoptions(formatter={\"float\": \"{:.2f}\".format})"
   ]
  },
  {
   "cell_type": "code",
   "execution_count": null,
   "metadata": {},
   "outputs": [],
   "source": [
    "data = next(it)\n",
    "n, pvec = network.feedforward(data/255)\n",
    "print(n)\n",
    "print(pvec)\n",
    "fig,ax=plt.subplots()\n",
    "ax.imshow(data.reshape((28,28)), cmap=\"gray\", vmin = 0, vmax = 255)\n",
    "ax.tick_params(axis='both', which='major', labelsize=14, length=10, width=2)\n",
    "plt.show()"
   ]
  },
  {
   "cell_type": "markdown",
   "metadata": {},
   "source": [
    "## Training"
   ]
  },
  {
   "cell_type": "code",
   "execution_count": null,
   "metadata": {},
   "outputs": [],
   "source": [
    "network = ModelSpecSmall()\n",
    "batchsize = 20\n",
    "N_iterations, batch_it, valset = init_training_data(\"../data/train.csv\", batchsize=batchsize, valsetsize=100, epochs=40)\n",
    "network.init_training(batchsize=batchsize, validation_set=valset)"
   ]
  },
  {
   "cell_type": "code",
   "execution_count": null,
   "metadata": {},
   "outputs": [],
   "source": [
    "for batch in batch_it:\n",
    "    (training_loss, training_accuracy, validation_loss, validation_accuracy) = network.train_minibatch(batch)\n",
    "    print(f\"Loss: {validation_loss:10.4f}, Accuracy: {validation_accuracy:4.2f} (validation set)\\r\", end=\"\")"
   ]
  }
 ],
 "metadata": {
  "kernelspec": {
   "display_name": ".venv",
   "language": "python",
   "name": "python3"
  },
  "language_info": {
   "codemirror_mode": {
    "name": "ipython",
    "version": 3
   },
   "file_extension": ".py",
   "mimetype": "text/x-python",
   "name": "python",
   "nbconvert_exporter": "python",
   "pygments_lexer": "ipython3",
   "version": "3.13.1"
  }
 },
 "nbformat": 4,
 "nbformat_minor": 2
}
