{
 "cells": [
  {
   "cell_type": "code",
   "execution_count": null,
   "metadata": {},
   "outputs": [],
   "source": [
    "import matplotlib.pyplot as plt\n",
    "from matplotlib.animation import FuncAnimation\n",
    "import numpy as np\n",
    "from mlp import MLP, Layer, InputLayer, OutputLayer, MultinoulliML\n",
    "from utils import Adam"
   ]
  },
  {
   "cell_type": "code",
   "execution_count": null,
   "metadata": {},
   "outputs": [],
   "source": [
    "def epoch_it(X, epochs, batchsize):\n",
    "    n, _ = X.shape\n",
    "    N = int(n/batchsize)\n",
    "    for _ in range(epochs):\n",
    "        for i in range(N):\n",
    "            yield X[i*batchsize : (i+1)*batchsize]"
   ]
  },
  {
   "cell_type": "code",
   "execution_count": null,
   "metadata": {},
   "outputs": [],
   "source": [
    "network = MLP(\n",
    "    [\n",
    "        InputLayer(28*28),\n",
    "        Layer(16),\n",
    "        Layer(16),\n",
    "        OutputLayer(10)\n",
    "    ],\n",
    "    model=MultinoulliML(),\n",
    "    optimizer=Adam(eps=1.)\n",
    ")"
   ]
  },
  {
   "cell_type": "code",
   "execution_count": null,
   "metadata": {},
   "outputs": [],
   "source": [
    "batchsize = 20\n",
    "epochs = 1\n",
    "\n",
    "data = np.loadtxt(\"data/train.csv\", skiprows=1, delimiter=\",\", dtype=int)\n",
    "valset = data[:batchsize]\n",
    "valset = (valset[:, 1:] / 255, valset[:, 0])\n",
    "trainset = data[batchsize:]\n",
    "it = epoch_it(trainset, epochs, batchsize=batchsize)\n",
    "\n",
    "network.init_training(batchsize=batchsize, validation_set=valset)"
   ]
  },
  {
   "cell_type": "code",
   "execution_count": null,
   "metadata": {},
   "outputs": [],
   "source": [
    "it = map(\n",
    "    lambda line: np.fromstring(line, sep=\",\", dtype=np.uint8),\n",
    "    file_it(\"../data/test.csv\", skiplines=1),\n",
    ")"
   ]
  },
  {
   "cell_type": "code",
   "execution_count": null,
   "metadata": {},
   "outputs": [],
   "source": [
    "data = next(it)\n",
    "n = network.feedforward(data/255)\n",
    "print(n)\n",
    "plt.imshow(data.reshape((28,28)), cmap=\"gray\", vmin = 0, vmax = 255)"
   ]
  },
  {
   "cell_type": "code",
   "execution_count": null,
   "metadata": {},
   "outputs": [],
   "source": [
    "import numpy as np"
   ]
  },
  {
   "cell_type": "code",
   "execution_count": null,
   "metadata": {},
   "outputs": [],
   "source": [
    "class ParentA:\n",
    "    def func(self, a):\n",
    "        print(\"parent a\", a)\n",
    "\n",
    "class ParentB:\n",
    "    def func(self, a):\n",
    "        print(\"parent b\", a)\n",
    "\n",
    "class Derived(ParentA, ParentB):\n",
    "    def func(self, a):\n",
    "        super().func(a=a)\n",
    "        print(\"derived\", a)"
   ]
  },
  {
   "cell_type": "code",
   "execution_count": null,
   "metadata": {},
   "outputs": [],
   "source": [
    "Derived().func(\"hello\")"
   ]
  },
  {
   "cell_type": "code",
   "execution_count": null,
   "metadata": {},
   "outputs": [],
   "source": []
  }
 ],
 "metadata": {
  "kernelspec": {
   "display_name": ".venv",
   "language": "python",
   "name": "python3"
  },
  "language_info": {
   "codemirror_mode": {
    "name": "ipython",
    "version": 3
   },
   "file_extension": ".py",
   "mimetype": "text/x-python",
   "name": "python",
   "nbconvert_exporter": "python",
   "pygments_lexer": "ipython3",
   "version": "3.12.5"
  }
 },
 "nbformat": 4,
 "nbformat_minor": 2
}
